{
 "cells": [
  {
   "cell_type": "code",
   "execution_count": 1,
   "id": "571a84f6",
   "metadata": {},
   "outputs": [],
   "source": [
    "#import  the neccesarry libraries required for analysis\n",
    "\n",
    "import pandas as pd\n",
    "\n",
    "import matplotlib.pyplot as plt\n",
    "%matplotlib inline\n",
    "\n",
    "import numpy as np\n",
    "from scipy.stats import norm\n",
    "\n",
    "import warnings\n",
    "warnings.filterwarnings(\"ignore\")"
   ]
  },
  {
   "cell_type": "code",
   "execution_count": 2,
   "id": "31e8e057",
   "metadata": {
    "scrolled": true
   },
   "outputs": [
    {
     "data": {
      "text/html": [
       "<div>\n",
       "<style scoped>\n",
       "    .dataframe tbody tr th:only-of-type {\n",
       "        vertical-align: middle;\n",
       "    }\n",
       "\n",
       "    .dataframe tbody tr th {\n",
       "        vertical-align: top;\n",
       "    }\n",
       "\n",
       "    .dataframe thead th {\n",
       "        text-align: right;\n",
       "    }\n",
       "</style>\n",
       "<table border=\"1\" class=\"dataframe\">\n",
       "  <thead>\n",
       "    <tr style=\"text-align: right;\">\n",
       "      <th></th>\n",
       "      <th>Date</th>\n",
       "      <th>Prev Close</th>\n",
       "      <th>Open Price</th>\n",
       "      <th>Close Price</th>\n",
       "      <th>MA10</th>\n",
       "      <th>MA50</th>\n",
       "    </tr>\n",
       "  </thead>\n",
       "  <tbody>\n",
       "    <tr>\n",
       "      <th>49</th>\n",
       "      <td>22-Nov-2019</td>\n",
       "      <td>713.25</td>\n",
       "      <td>711.75</td>\n",
       "      <td>693.20</td>\n",
       "      <td>705.060</td>\n",
       "      <td>746.527</td>\n",
       "    </tr>\n",
       "    <tr>\n",
       "      <th>50</th>\n",
       "      <td>25-Nov-2019</td>\n",
       "      <td>693.20</td>\n",
       "      <td>693.35</td>\n",
       "      <td>698.10</td>\n",
       "      <td>704.055</td>\n",
       "      <td>743.907</td>\n",
       "    </tr>\n",
       "    <tr>\n",
       "      <th>51</th>\n",
       "      <td>26-Nov-2019</td>\n",
       "      <td>698.10</td>\n",
       "      <td>705.00</td>\n",
       "      <td>690.60</td>\n",
       "      <td>702.675</td>\n",
       "      <td>741.317</td>\n",
       "    </tr>\n",
       "    <tr>\n",
       "      <th>52</th>\n",
       "      <td>27-Nov-2019</td>\n",
       "      <td>690.60</td>\n",
       "      <td>694.25</td>\n",
       "      <td>695.75</td>\n",
       "      <td>703.115</td>\n",
       "      <td>738.904</td>\n",
       "    </tr>\n",
       "    <tr>\n",
       "      <th>53</th>\n",
       "      <td>28-Nov-2019</td>\n",
       "      <td>695.75</td>\n",
       "      <td>699.10</td>\n",
       "      <td>701.85</td>\n",
       "      <td>702.770</td>\n",
       "      <td>736.355</td>\n",
       "    </tr>\n",
       "  </tbody>\n",
       "</table>\n",
       "</div>"
      ],
      "text/plain": [
       "           Date  Prev Close  Open Price  Close Price     MA10     MA50\n",
       "49  22-Nov-2019      713.25      711.75       693.20  705.060  746.527\n",
       "50  25-Nov-2019      693.20      693.35       698.10  704.055  743.907\n",
       "51  26-Nov-2019      698.10      705.00       690.60  702.675  741.317\n",
       "52  27-Nov-2019      690.60      694.25       695.75  703.115  738.904\n",
       "53  28-Nov-2019      695.75      699.10       701.85  702.770  736.355"
      ]
     },
     "execution_count": 2,
     "metadata": {},
     "output_type": "execute_result"
    }
   ],
   "source": [
    "#import stock data, add two columns - MA10 and MA50\n",
    "#use dropna to remove any \"Not a Number\" data\n",
    "\n",
    "infy = pd.read_csv('INFY2019.csv')\n",
    "infy['MA10'] = infy['Close Price'].rolling(10).mean()\n",
    "infy['MA50'] = infy['Close Price'].rolling(50).mean()\n",
    "infy = infy.dropna()\n",
    "infy = infy.drop(['Symbol', 'Series', 'Average Price', 'High Price', 'Low Price', 'Last Price', 'Total Traded Quantity', 'Turnover', 'No. of Trades', 'Deliverable Qty','% Dly Qt to Traded Qty'], axis = 1)\n",
    "infy.head()"
   ]
  },
  {
   "cell_type": "code",
   "execution_count": 3,
   "id": "e1d0ced8",
   "metadata": {},
   "outputs": [],
   "source": [
    "#Add a new column \"Shares\", if MA10>MA50, denote as 1 (long one share of stock), otherwise, denote as 0 (do nothing)\n",
    "\n",
    "infy['Shares'] = [1 if infy.loc[ei, 'MA10']>infy.loc[ei, 'MA50'] else 0 for ei in infy.index]"
   ]
  },
  {
   "cell_type": "code",
   "execution_count": 4,
   "id": "a93d8062",
   "metadata": {},
   "outputs": [
    {
     "data": {
      "text/plain": [
       "<matplotlib.lines.Line2D at 0x1f2cb8b1b50>"
      ]
     },
     "execution_count": 4,
     "metadata": {},
     "output_type": "execute_result"
    },
    {
     "data": {
      "image/png": "[encoded data removed]",
      "text/plain": [
       "<Figure size 432x288 with 1 Axes>"
      ]
     },
     "metadata": {
      "needs_background": "light"
     },
     "output_type": "display_data"
    }
   ],
   "source": [
    "#Add a new column \"Profit\" using List Comprehension, for any rows in fb, if Shares=1, the profit is calculated as the close price of \n",
    "#tomorrow - the close price of today. Otherwise the profit is 0.\n",
    "\n",
    "#Plot a graph to show the Profit/Loss\n",
    "\n",
    "infy['Close1'] = infy['Close Price'].shift(-1)\n",
    "infy['Profit'] = [infy.loc[ei, 'Close1'] - infy.loc[ei, 'Close Price'] if infy.loc[ei, 'Shares']==1 else 0 for ei in infy.index]\n",
    "infy['Profit'].plot()\n",
    "plt.axhline(y=0, color='red')"
   ]
  },
  {
   "cell_type": "code",
   "execution_count": 5,
   "id": "d19fd12e",
   "metadata": {},
   "outputs": [
    {
     "data": {
      "text/html": [
       "<div>\n",
       "<style scoped>\n",
       "    .dataframe tbody tr th:only-of-type {\n",
       "        vertical-align: middle;\n",
       "    }\n",
       "\n",
       "    .dataframe tbody tr th {\n",
       "        vertical-align: top;\n",
       "    }\n",
       "\n",
       "    .dataframe thead th {\n",
       "        text-align: right;\n",
       "    }\n",
       "</style>\n",
       "<table border=\"1\" class=\"dataframe\">\n",
       "  <thead>\n",
       "    <tr style=\"text-align: right;\">\n",
       "      <th></th>\n",
       "      <th>Date</th>\n",
       "      <th>Prev Close</th>\n",
       "      <th>Open Price</th>\n",
       "      <th>Close Price</th>\n",
       "      <th>MA10</th>\n",
       "      <th>MA50</th>\n",
       "      <th>Shares</th>\n",
       "      <th>Close1</th>\n",
       "      <th>Profit</th>\n",
       "      <th>wealth</th>\n",
       "    </tr>\n",
       "  </thead>\n",
       "  <tbody>\n",
       "    <tr>\n",
       "      <th>491</th>\n",
       "      <td>31-Aug-2021</td>\n",
       "      <td>1698.05</td>\n",
       "      <td>1700.15</td>\n",
       "      <td>1706.45</td>\n",
       "      <td>1724.420</td>\n",
       "      <td>1620.962</td>\n",
       "      <td>1</td>\n",
       "      <td>1677.75</td>\n",
       "      <td>-28.70</td>\n",
       "      <td>864.50</td>\n",
       "    </tr>\n",
       "    <tr>\n",
       "      <th>492</th>\n",
       "      <td>01-Sep-2021</td>\n",
       "      <td>1706.45</td>\n",
       "      <td>1709.50</td>\n",
       "      <td>1677.75</td>\n",
       "      <td>1718.030</td>\n",
       "      <td>1624.511</td>\n",
       "      <td>1</td>\n",
       "      <td>1689.10</td>\n",
       "      <td>11.35</td>\n",
       "      <td>875.85</td>\n",
       "    </tr>\n",
       "    <tr>\n",
       "      <th>493</th>\n",
       "      <td>02-Sep-2021</td>\n",
       "      <td>1677.75</td>\n",
       "      <td>1677.35</td>\n",
       "      <td>1689.10</td>\n",
       "      <td>1713.595</td>\n",
       "      <td>1628.056</td>\n",
       "      <td>1</td>\n",
       "      <td>1700.65</td>\n",
       "      <td>11.55</td>\n",
       "      <td>887.40</td>\n",
       "    </tr>\n",
       "    <tr>\n",
       "      <th>494</th>\n",
       "      <td>03-Sep-2021</td>\n",
       "      <td>1689.10</td>\n",
       "      <td>1696.05</td>\n",
       "      <td>1700.65</td>\n",
       "      <td>1710.365</td>\n",
       "      <td>1632.006</td>\n",
       "      <td>1</td>\n",
       "      <td>1730.40</td>\n",
       "      <td>29.75</td>\n",
       "      <td>917.15</td>\n",
       "    </tr>\n",
       "    <tr>\n",
       "      <th>495</th>\n",
       "      <td>06-Sep-2021</td>\n",
       "      <td>1700.65</td>\n",
       "      <td>1705.15</td>\n",
       "      <td>1730.40</td>\n",
       "      <td>1709.530</td>\n",
       "      <td>1635.430</td>\n",
       "      <td>1</td>\n",
       "      <td>NaN</td>\n",
       "      <td>NaN</td>\n",
       "      <td>NaN</td>\n",
       "    </tr>\n",
       "  </tbody>\n",
       "</table>\n",
       "</div>"
      ],
      "text/plain": [
       "            Date  Prev Close  Open Price  Close Price      MA10      MA50  \\\n",
       "491  31-Aug-2021     1698.05     1700.15      1706.45  1724.420  1620.962   \n",
       "492  01-Sep-2021     1706.45     1709.50      1677.75  1718.030  1624.511   \n",
       "493  02-Sep-2021     1677.75     1677.35      1689.10  1713.595  1628.056   \n",
       "494  03-Sep-2021     1689.10     1696.05      1700.65  1710.365  1632.006   \n",
       "495  06-Sep-2021     1700.65     1705.15      1730.40  1709.530  1635.430   \n",
       "\n",
       "     Shares   Close1  Profit  wealth  \n",
       "491       1  1677.75  -28.70  864.50  \n",
       "492       1  1689.10   11.35  875.85  \n",
       "493       1  1700.65   11.55  887.40  \n",
       "494       1  1730.40   29.75  917.15  \n",
       "495       1      NaN     NaN     NaN  "
      ]
     },
     "execution_count": 5,
     "metadata": {},
     "output_type": "execute_result"
    }
   ],
   "source": [
    "#Use .cumsum() to calculate the accumulated wealth over the period\n",
    "\n",
    "infy['wealth'] = infy['Profit'].cumsum()\n",
    "infy.tail()"
   ]
  },
  {
   "cell_type": "code",
   "execution_count": 6,
   "id": "9475a4e8",
   "metadata": {},
   "outputs": [
    {
     "data": {
      "text/plain": [
       "Text(0.5, 1.0, 'Total money you win is 917.1500000000002')"
      ]
     },
     "execution_count": 6,
     "metadata": {},
     "output_type": "execute_result"
    },
    {
     "data": {
      "image/png": "[encoded data removed]",
      "text/plain": [
       "<Figure size 432x288 with 1 Axes>"
      ]
     },
     "metadata": {
      "needs_background": "light"
     },
     "output_type": "display_data"
    }
   ],
   "source": [
    "#plot the wealth to show the growth of profit over the period\n",
    "\n",
    "infy['wealth'].plot()\n",
    "plt.title('Total money you win is {}'.format(infy.loc[infy.index[-2], 'wealth']))"
   ]
  },
  {
   "cell_type": "code",
   "execution_count": 7,
   "id": "187a363e",
   "metadata": {},
   "outputs": [],
   "source": [
    "# let play around with data by calculating the log daily return\n",
    "\n",
    "infy['LogReturn'] = np.log(infy['Close Price']).shift(-1) - np.log(infy['Close Price'])"
   ]
  },
  {
   "cell_type": "code",
   "execution_count": 8,
   "id": "b4f680af",
   "metadata": {},
   "outputs": [
    {
     "data": {
      "image/png": "[encoded data removed]",
      "text/plain": [
       "<Figure size 1080x576 with 1 Axes>"
      ]
     },
     "metadata": {
      "needs_background": "light"
     },
     "output_type": "display_data"
    }
   ],
   "source": [
    "# Plot a histogram to show the distribution of log return of the stock. \n",
    "# You can see it is very close to a normal distribution\n",
    "from scipy.stats import norm\n",
    "mu = infy['LogReturn'].mean()\n",
    "sigma = infy['LogReturn'].std(ddof=1)\n",
    "\n",
    "density = pd.DataFrame()\n",
    "density['x'] = np.arange(infy['LogReturn'].min()-0.01, infy['LogReturn'].max()+0.01, 0.001)\n",
    "density['pdf'] = norm.pdf(density['x'], mu, sigma)\n",
    "\n",
    "infy['LogReturn'].hist(bins=50, figsize=(15, 8))\n",
    "plt.plot(density['x'], density['pdf'], color='red')\n",
    "plt.show()"
   ]
  },
  {
   "cell_type": "code",
   "execution_count": 9,
   "id": "57f14cc2",
   "metadata": {},
   "outputs": [
    {
     "name": "stdout",
     "output_type": "stream",
     "text": [
      "The Probability is  0.0056127574125140346\n"
     ]
    }
   ],
   "source": [
    "# probability that the stock price to drop over 5% in a day\n",
    "prob_return1 = norm.cdf(-0.05, mu, sigma)\n",
    "print('The Probability is ', prob_return1)"
   ]
  },
  {
   "cell_type": "code",
   "execution_count": 10,
   "id": "4631ffc0",
   "metadata": {},
   "outputs": [
    {
     "name": "stdout",
     "output_type": "stream",
     "text": [
      "The Probability is  3.325583748284297e-07\n"
     ]
    }
   ],
   "source": [
    "# the probability that the stock price to drop over 10% in a day\n",
    "prob_return1 = norm.cdf(-0.1, mu, sigma)\n",
    "print('The Probability is ', prob_return1)"
   ]
  },
  {
   "cell_type": "code",
   "execution_count": 11,
   "id": "2899ceda",
   "metadata": {},
   "outputs": [
    {
     "name": "stdout",
     "output_type": "stream",
     "text": [
      "The probability of dropping over 40% in 220 days is  0.0025892939053102715\n"
     ]
    }
   ],
   "source": [
    "# drop over 40% in 220 days\n",
    "mu220 = 220*mu\n",
    "sigma220 = (220**0.5) * sigma\n",
    "print('The probability of dropping over 40% in 220 days is ', norm.cdf(-0.4, mu220, sigma220))"
   ]
  },
  {
   "cell_type": "code",
   "execution_count": 12,
   "id": "211fa408",
   "metadata": {},
   "outputs": [
    {
     "name": "stdout",
     "output_type": "stream",
     "text": [
      "The probability of dropping over 20% in 220 days is  0.016223705982444776\n"
     ]
    }
   ],
   "source": [
    "# drop over 20% in 220 days\n",
    "mu220 = 220*mu\n",
    "sigma220 = (220**0.5) * sigma\n",
    "drop20 = norm.cdf(-0.2, mu220, sigma220)\n",
    "print('The probability of dropping over 20% in 220 days is ', drop20)"
   ]
  },
  {
   "cell_type": "code",
   "execution_count": 13,
   "id": "ad2c79cf",
   "metadata": {},
   "outputs": [
    {
     "name": "stdout",
     "output_type": "stream",
     "text": [
      "Single day value at risk  -0.03171466437374609\n"
     ]
    }
   ],
   "source": [
    "# Value at risk(VaR): Probability to \n",
    "VaR = norm.ppf(0.05, mu, sigma)\n",
    "print('Single day value at risk ', VaR)"
   ]
  },
  {
   "cell_type": "code",
   "execution_count": 14,
   "id": "e9bd87c5",
   "metadata": {},
   "outputs": [
    {
     "name": "stdout",
     "output_type": "stream",
     "text": [
      "5% quantile  -0.03171466437374609\n",
      "95% quantile  0.035816858619474326\n"
     ]
    }
   ],
   "source": [
    "# Quatile \n",
    "# 5% quantile\n",
    "print('5% quantile ', norm.ppf(0.05, mu, sigma))\n",
    "# 95% quantile\n",
    "print('95% quantile ', norm.ppf(0.95, mu, sigma))"
   ]
  },
  {
   "cell_type": "code",
   "execution_count": 15,
   "id": "ad051b99",
   "metadata": {},
   "outputs": [
    {
     "name": "stdout",
     "output_type": "stream",
     "text": [
      "25% quantile  -0.01179491304111566\n",
      "75% quantile  0.0158971072868439\n"
     ]
    }
   ],
   "source": [
    "# This is your turn to calcuate the 25% and 75% Quantile of the return\n",
    "# 25% quantile\n",
    "q25 = norm.ppf(0.25, mu, sigma)\n",
    "print('25% quantile ', q25)\n",
    "# 75% quantile\n",
    "q75 = norm.ppf(0.75, mu, sigma)\n",
    "print('75% quantile ', q75)"
   ]
  },
  {
   "cell_type": "code",
   "execution_count": 16,
   "id": "693299c6",
   "metadata": {},
   "outputs": [],
   "source": [
    "# we will use log return for average stock return of Microsoft\n",
    "\n",
    "infy['logReturn'] = np.log(infy['Close Price'].shift(-1)) - np.log(infy['Close Price'])"
   ]
  },
  {
   "cell_type": "code",
   "execution_count": 17,
   "id": "6ff725d5",
   "metadata": {},
   "outputs": [],
   "source": [
    "# Lets build 90% confidence interval for log return\n",
    "sample_size = infy['logReturn'].shape[0]\n",
    "sample_mean = infy['logReturn'].mean()\n",
    "sample_std = infy['logReturn'].std(ddof=1) / sample_size**0.5\n",
    "\n",
    "# left and right quantile\n",
    "z_left = norm.ppf(0.1)\n",
    "z_right = norm.ppf(0.9)\n",
    "\n",
    "# upper and lower bound\n",
    "interval_left = sample_mean + z_left * sample_std\n",
    "interval_right = sample_mean + z_right * sample_std"
   ]
  },
  {
   "cell_type": "code",
   "execution_count": 18,
   "id": "698e69da",
   "metadata": {},
   "outputs": [
    {
     "name": "stdout",
     "output_type": "stream",
     "text": [
      "90% confidence interval is  (0.0008067784578964547, 0.003295415787831787)\n"
     ]
    }
   ],
   "source": [
    "# 90% confidence interval tells you that there will be 90% chance that the average stock return lies between \"interval_left\"\n",
    "# and \"interval_right\".\n",
    "\n",
    "print('90% confidence interval is ', (interval_left, interval_right))"
   ]
  },
  {
   "cell_type": "code",
   "execution_count": null,
   "id": "994e1356",
   "metadata": {},
   "outputs": [],
   "source": []
  }
 ],
 "metadata": {
  "kernelspec": {
   "display_name": "Python 3",
   "language": "python",
   "name": "python3"
  },
  "language_info": {
   "codemirror_mode": {
    "name": "ipython",
    "version": 3
   },
   "file_extension": ".py",
   "mimetype": "text/x-python",
   "name": "python",
   "nbconvert_exporter": "python",
   "pygments_lexer": "ipython3",
   "version": "3.8.8"
  }
 },
 "nbformat": 4,
 "nbformat_minor": 5
}
